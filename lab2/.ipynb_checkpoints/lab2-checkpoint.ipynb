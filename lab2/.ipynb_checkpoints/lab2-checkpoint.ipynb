{
 "cells": [
  {
   "cell_type": "code",
   "execution_count": 1,
   "metadata": {},
   "outputs": [
    {
     "name": "stderr",
     "output_type": "stream",
     "text": [
      "F:\\Programs\\Anaconda\\lib\\site-packages\\sklearn\\ensemble\\weight_boosting.py:29: DeprecationWarning: numpy.core.umath_tests is an internal NumPy module and should not be imported. It will be removed in a future NumPy release.\n",
      "  from numpy.core.umath_tests import inner1d\n"
     ]
    }
   ],
   "source": [
    "import pandas as pd\n",
    "import numpy as np\n",
    "import seaborn as sns\n",
    "from sklearn.metrics import confusion_matrix\n",
    "from sklearn.metrics import cohen_kappa_score\n",
    "from sklearn.metrics import classification_report\n",
    "from sklearn.model_selection import train_test_split\n",
    "from sklearn.ensemble import RandomForestClassifier\n",
    "from sklearn.ensemble import AdaBoostClassifier\n",
    "from sklearn.neural_network import MLPClassifier"
   ]
  },
  {
   "cell_type": "code",
   "execution_count": 2,
   "metadata": {},
   "outputs": [],
   "source": [
    "basic_data = pd.read_csv('Immunotherapy.csv', sep=';')"
   ]
  },
  {
   "cell_type": "code",
   "execution_count": 3,
   "metadata": {},
   "outputs": [
    {
     "data": {
      "text/html": [
       "<div>\n",
       "<style scoped>\n",
       "    .dataframe tbody tr th:only-of-type {\n",
       "        vertical-align: middle;\n",
       "    }\n",
       "\n",
       "    .dataframe tbody tr th {\n",
       "        vertical-align: top;\n",
       "    }\n",
       "\n",
       "    .dataframe thead th {\n",
       "        text-align: right;\n",
       "    }\n",
       "</style>\n",
       "<table border=\"1\" class=\"dataframe\">\n",
       "  <thead>\n",
       "    <tr style=\"text-align: right;\">\n",
       "      <th></th>\n",
       "      <th>sex</th>\n",
       "      <th>age</th>\n",
       "      <th>Time</th>\n",
       "      <th>Number_of_Warts</th>\n",
       "      <th>Type</th>\n",
       "      <th>Area</th>\n",
       "      <th>induration_diameter</th>\n",
       "      <th>Result_of_Treatment</th>\n",
       "    </tr>\n",
       "  </thead>\n",
       "  <tbody>\n",
       "    <tr>\n",
       "      <th>0</th>\n",
       "      <td>1</td>\n",
       "      <td>22</td>\n",
       "      <td>2.25</td>\n",
       "      <td>14</td>\n",
       "      <td>3</td>\n",
       "      <td>51</td>\n",
       "      <td>50</td>\n",
       "      <td>1</td>\n",
       "    </tr>\n",
       "    <tr>\n",
       "      <th>1</th>\n",
       "      <td>1</td>\n",
       "      <td>15</td>\n",
       "      <td>3.00</td>\n",
       "      <td>2</td>\n",
       "      <td>3</td>\n",
       "      <td>900</td>\n",
       "      <td>70</td>\n",
       "      <td>1</td>\n",
       "    </tr>\n",
       "    <tr>\n",
       "      <th>2</th>\n",
       "      <td>1</td>\n",
       "      <td>16</td>\n",
       "      <td>10.50</td>\n",
       "      <td>2</td>\n",
       "      <td>1</td>\n",
       "      <td>100</td>\n",
       "      <td>25</td>\n",
       "      <td>1</td>\n",
       "    </tr>\n",
       "    <tr>\n",
       "      <th>3</th>\n",
       "      <td>1</td>\n",
       "      <td>27</td>\n",
       "      <td>4.50</td>\n",
       "      <td>9</td>\n",
       "      <td>3</td>\n",
       "      <td>80</td>\n",
       "      <td>30</td>\n",
       "      <td>1</td>\n",
       "    </tr>\n",
       "    <tr>\n",
       "      <th>4</th>\n",
       "      <td>1</td>\n",
       "      <td>20</td>\n",
       "      <td>8.00</td>\n",
       "      <td>6</td>\n",
       "      <td>1</td>\n",
       "      <td>45</td>\n",
       "      <td>8</td>\n",
       "      <td>1</td>\n",
       "    </tr>\n",
       "  </tbody>\n",
       "</table>\n",
       "</div>"
      ],
      "text/plain": [
       "   sex  age   Time  Number_of_Warts  Type  Area  induration_diameter  \\\n",
       "0    1   22   2.25               14     3    51                   50   \n",
       "1    1   15   3.00                2     3   900                   70   \n",
       "2    1   16  10.50                2     1   100                   25   \n",
       "3    1   27   4.50                9     3    80                   30   \n",
       "4    1   20   8.00                6     1    45                    8   \n",
       "\n",
       "   Result_of_Treatment  \n",
       "0                    1  \n",
       "1                    1  \n",
       "2                    1  \n",
       "3                    1  \n",
       "4                    1  "
      ]
     },
     "execution_count": 3,
     "metadata": {},
     "output_type": "execute_result"
    }
   ],
   "source": [
    "basic_data.head()"
   ]
  },
  {
   "cell_type": "code",
   "execution_count": 4,
   "metadata": {},
   "outputs": [
    {
     "name": "stdout",
     "output_type": "stream",
     "text": [
      "Index(['sex', 'age', 'Time', 'Number_of_Warts', 'Type', 'Area',\n",
      "       'induration_diameter', 'Result_of_Treatment'],\n",
      "      dtype='object')\n"
     ]
    }
   ],
   "source": [
    "print(basic_data.columns)"
   ]
  },
  {
   "cell_type": "code",
   "execution_count": 5,
   "metadata": {},
   "outputs": [
    {
     "name": "stdout",
     "output_type": "stream",
     "text": [
      "90\n"
     ]
    }
   ],
   "source": [
    "print(len(basic_data))"
   ]
  },
  {
   "cell_type": "code",
   "execution_count": 6,
   "metadata": {},
   "outputs": [
    {
     "data": {
      "text/plain": [
       "<matplotlib.axes._subplots.AxesSubplot at 0x29dab6af860>"
      ]
     },
     "execution_count": 6,
     "metadata": {},
     "output_type": "execute_result"
    },
    {
     "data": {
      "image/png": "[encoded data removed]",
      "text/plain": [
       "<Figure size 432x288 with 2 Axes>"
      ]
     },
     "metadata": {
      "needs_background": "light"
     },
     "output_type": "display_data"
    }
   ],
   "source": [
    "sns.heatmap(basic_data.corr(), annot=True)"
   ]
  },
  {
   "cell_type": "code",
   "execution_count": 7,
   "metadata": {},
   "outputs": [
    {
     "name": "stderr",
     "output_type": "stream",
     "text": [
      "F:\\Programs\\Anaconda\\lib\\site-packages\\scipy\\stats\\stats.py:1713: FutureWarning: Using a non-tuple sequence for multidimensional indexing is deprecated; use `arr[tuple(seq)]` instead of `arr[seq]`. In the future this will be interpreted as an array index, `arr[np.array(seq)]`, which will result either in an error or a different result.\n",
      "  return np.add.reduce(sorted[indexer] * weights, axis=axis) / sumval\n"
     ]
    },
    {
     "data": {
      "text/plain": [
       "<matplotlib.axes._subplots.AxesSubplot at 0x29daca2da58>"
      ]
     },
     "execution_count": 7,
     "metadata": {},
     "output_type": "execute_result"
    },
    {
     "data": {
      "image/png": "[encoded data removed]",
      "text/plain": [
       "<Figure size 432x288 with 1 Axes>"
      ]
     },
     "metadata": {
      "needs_background": "light"
     },
     "output_type": "display_data"
    }
   ],
   "source": [
    "sns.distplot(basic_data['age'])"
   ]
  },
  {
   "cell_type": "code",
   "execution_count": 8,
   "metadata": {},
   "outputs": [
    {
     "name": "stderr",
     "output_type": "stream",
     "text": [
      "F:\\Programs\\Anaconda\\lib\\site-packages\\scipy\\stats\\stats.py:1713: FutureWarning: Using a non-tuple sequence for multidimensional indexing is deprecated; use `arr[tuple(seq)]` instead of `arr[seq]`. In the future this will be interpreted as an array index, `arr[np.array(seq)]`, which will result either in an error or a different result.\n",
      "  return np.add.reduce(sorted[indexer] * weights, axis=axis) / sumval\n"
     ]
    },
    {
     "data": {
      "text/plain": [
       "<matplotlib.axes._subplots.AxesSubplot at 0x29dacb197f0>"
      ]
     },
     "execution_count": 8,
     "metadata": {},
     "output_type": "execute_result"
    },
    {
     "data": {
      "image/png": "[encoded data removed]",
      "text/plain": [
       "<Figure size 432x288 with 1 Axes>"
      ]
     },
     "metadata": {
      "needs_background": "light"
     },
     "output_type": "display_data"
    }
   ],
   "source": [
    "sns.distplot(basic_data['Number_of_Warts'])"
   ]
  },
  {
   "cell_type": "code",
   "execution_count": 9,
   "metadata": {},
   "outputs": [
    {
     "data": {
      "text/plain": [
       "<matplotlib.axes._subplots.AxesSubplot at 0x29dacb928d0>"
      ]
     },
     "execution_count": 9,
     "metadata": {},
     "output_type": "execute_result"
    },
    {
     "data": {
      "image/png": "[encoded data removed]",
      "text/plain": [
       "<Figure size 432x288 with 1 Axes>"
      ]
     },
     "metadata": {
      "needs_background": "light"
     },
     "output_type": "display_data"
    }
   ],
   "source": [
    "sns.boxplot(x='Result_of_Treatment',y='Time', data=basic_data)\n",
    "# по непонятной причине иногда показывается неправильно"
   ]
  },
  {
   "cell_type": "code",
   "execution_count": null,
   "metadata": {},
   "outputs": [],
   "source": []
  },
  {
   "cell_type": "code",
   "execution_count": 10,
   "metadata": {},
   "outputs": [],
   "source": [
    "def augment(part, result):\n",
    "    res = []\n",
    "    for feat in part.iloc[:,:7]:\n",
    "        mu = part[feat].mean()\n",
    "        sigma = part[feat].std()\n",
    "        extended = np.random.normal(mu, sigma, 1000-len(part))\n",
    "        res = np.hstack((res, extended))\n",
    "    res = res.reshape(7, 1000-len(part)).T\n",
    "    res = np.c_[res, np.full(1000-len(part), result)]\n",
    "    return np.concatenate((data, res), axis=0)"
   ]
  },
  {
   "cell_type": "code",
   "execution_count": 11,
   "metadata": {},
   "outputs": [
    {
     "name": "stdout",
     "output_type": "stream",
     "text": [
      "2000\n"
     ]
    }
   ],
   "source": [
    "# аугментация\n",
    "data = basic_data\n",
    "dlabel_true = data.loc[data['Result_of_Treatment']==1.0]\n",
    "dlabel_false = data.loc[data['Result_of_Treatment']!=1.0]\n",
    "if len(dlabel_true) + len(dlabel_false) != len(data):\n",
    "    raise AssertionError()\n",
    "    \n",
    "data = augment(dlabel_true, 1.0)\n",
    "data = augment(dlabel_false, 0.0)\n",
    "\n",
    "print(len(data))"
   ]
  },
  {
   "cell_type": "code",
   "execution_count": 12,
   "metadata": {},
   "outputs": [
    {
     "data": {
      "text/plain": [
       "<bound method NDFrame.head of            sex       age      Time  Number_of_Warts      Type      Area  \\\n",
       "0     0.348336  0.394345  0.194653         0.791510  0.741657  0.320050   \n",
       "1     0.348336  0.300846  0.225545         0.409742  0.741657  1.000000   \n",
       "2     0.348336  0.314203  0.534470         0.409742  0.382746  0.359293   \n",
       "3     0.348336  0.461130  0.287330         0.632440  0.741657  0.343275   \n",
       "4     0.348336  0.367631  0.431495         0.536998  0.382746  0.315244   \n",
       "5     0.348336  0.300846  0.307925         0.441556  0.741657  0.346479   \n",
       "6     0.348336  0.567987  0.503577         0.409742  0.562202  0.285612   \n",
       "7     0.647802  0.474487  0.410900         0.473370  0.382746  0.286413   \n",
       "8     0.647802  0.354274  0.349115         0.409742  0.382746  0.459403   \n",
       "9     0.647802  0.527915  0.596254         0.536998  0.741657  0.307236   \n",
       "10    0.647802  0.541273  0.359412         0.409742  0.382746  0.303231   \n",
       "11    0.647802  0.327560  0.338817         0.727882  0.741657  0.299227   \n",
       "12    0.647802  0.300846  0.174058         0.377928  0.562202  0.318448   \n",
       "13    0.647802  0.300846  0.328520         0.727882  0.382746  0.317647   \n",
       "14    0.647802  0.314203  0.513875         0.568812  0.382746  0.393731   \n",
       "15    0.647802  0.541273  0.482982         0.409742  0.562202  0.399337   \n",
       "16    0.647802  0.447773  0.421197         0.536998  0.562202  0.284010   \n",
       "17    0.647802  0.407702  0.410900         0.664254  0.562202  0.313643   \n",
       "18    0.647802  0.300846  0.369710         0.950580  0.382746  0.324054   \n",
       "19    0.647802  0.447773  0.380007         0.409742  0.382746  0.284010   \n",
       "20    0.348336  0.394345  0.153463         0.441556  0.741657  0.316846   \n",
       "21    0.647802  0.354274  0.194653         0.409742  0.382746  0.327258   \n",
       "22    0.647802  0.447773  0.534470         0.536998  0.382746  0.319249   \n",
       "23    0.348336  0.434416  0.338817         0.409742  0.382746  0.519470   \n",
       "24    0.647802  0.327560  0.565362         0.473370  0.741657  0.335267   \n",
       "25    0.348336  0.461130  0.307925         0.409742  0.382746  0.295222   \n",
       "26    0.647802  0.421059  0.297628         0.664254  0.741657  0.303231   \n",
       "27    0.348336  0.300846  0.555065         0.536998  0.382746  0.303231   \n",
       "28    0.647802  0.554630  0.575660         0.727882  0.382746  0.299227   \n",
       "29    0.647802  0.367631  0.421197         0.918766  0.741657  0.315244   \n",
       "...        ...       ...       ...              ...       ...       ...   \n",
       "1970  0.574029  0.577374  0.503731         0.562354  0.368547  0.257112   \n",
       "1971  0.186183  0.649048  0.302621         0.614195  0.579112  0.306400   \n",
       "1972  0.416831  0.477242  0.310088         0.734977  0.648551  0.357619   \n",
       "1973  0.315844  0.815145  0.394066         0.661324  0.514526  0.301541   \n",
       "1974  0.465955  0.353635  0.517392         0.344732  0.486574  0.331071   \n",
       "1975  0.451746  0.272789  0.659246         0.467848  0.491028  0.265602   \n",
       "1976  0.235989  0.711041  0.639507         0.647431  0.535670  0.333698   \n",
       "1977  0.737511  0.535852  0.275309         0.615337  0.415343  0.263025   \n",
       "1978  0.223960  0.670923  0.553335         0.828614  0.674335  0.420394   \n",
       "1979  0.418577  0.357769  0.558359         0.705533  0.498446  0.366475   \n",
       "1980  0.148918  0.449117  0.417154         0.376804  0.631689  0.279487   \n",
       "1981  0.794713  0.751960  0.377132         0.432175  0.412648  0.373105   \n",
       "1982  0.254949  0.509072  0.309149         0.710022  0.490158  0.479104   \n",
       "1983  0.563327  0.628092  0.317246         0.328884  0.358203  0.426964   \n",
       "1984  0.508518  0.557416  0.641756         0.390677  0.501672  0.293542   \n",
       "1985  0.456913  0.572050  0.571407         0.574383  0.406350  0.333752   \n",
       "1986  0.530354  0.733275  0.618221         0.574714  0.652164  0.392814   \n",
       "1987  0.532508  0.644592  0.430861         0.563600  0.378803  0.354335   \n",
       "1988  0.451466  0.357031  0.439407         0.635244  0.272917  0.371815   \n",
       "1989  0.476966  0.322348  0.400218         0.632370  0.566109  0.306161   \n",
       "1990  0.510098  0.526920  0.297998         0.576074  0.576245  0.382969   \n",
       "1991  0.463959  0.467445  0.485497         0.698432  0.400992  0.246226   \n",
       "1992  0.440113  0.704922  0.615230         0.546619  0.648764  0.398440   \n",
       "1993  0.622238  0.529712  0.433890         0.589799  0.510517  0.278883   \n",
       "1994  0.460092  0.408310  0.465516         0.527927  0.438253  0.273339   \n",
       "1995  0.527820  0.650465  0.474419         0.780936  0.625394  0.380398   \n",
       "1996  0.561402  0.628090  0.385602         0.589276  0.692516  0.474296   \n",
       "1997  0.407282  0.560141  0.465615         0.320148  0.393946  0.301326   \n",
       "1998  0.420783  0.550326  0.637935         0.433162  0.474416  0.359946   \n",
       "1999  0.489328  0.653177  0.390649         0.575581  0.452211  0.284777   \n",
       "\n",
       "      induration_diameter  Result_of_Treatment  \n",
       "0                0.787469                  1.0  \n",
       "1                0.954394                  1.0  \n",
       "2                0.578813                  1.0  \n",
       "3                0.620544                  1.0  \n",
       "4                0.436927                  1.0  \n",
       "5                0.428581                  1.0  \n",
       "6                0.420235                  1.0  \n",
       "7                0.386850                  1.0  \n",
       "8                0.436927                  1.0  \n",
       "9                0.411888                  0.0  \n",
       "10               0.395196                  1.0  \n",
       "11               0.428581                  1.0  \n",
       "12               0.428581                  0.0  \n",
       "13               0.428581                  1.0  \n",
       "14               0.420235                  1.0  \n",
       "15               0.436927                  1.0  \n",
       "16               0.411888                  1.0  \n",
       "17               0.395196                  1.0  \n",
       "18               0.428581                  1.0  \n",
       "19               0.420235                  1.0  \n",
       "20               0.395196                  1.0  \n",
       "21               0.428581                  1.0  \n",
       "22               0.445273                  0.0  \n",
       "23               0.428581                  1.0  \n",
       "24               0.428581                  1.0  \n",
       "25               0.411888                  1.0  \n",
       "26               0.745738                  1.0  \n",
       "27               0.578813                  0.0  \n",
       "28               0.787469                  0.0  \n",
       "29               0.386850                  1.0  \n",
       "...                   ...                  ...  \n",
       "1970             0.430755                  0.0  \n",
       "1971             0.480144                  0.0  \n",
       "1972             0.492648                  0.0  \n",
       "1973             0.581103                  0.0  \n",
       "1974             0.343916                  0.0  \n",
       "1975             0.498623                  0.0  \n",
       "1976             0.603070                  0.0  \n",
       "1977             0.478451                  0.0  \n",
       "1978             0.361021                  0.0  \n",
       "1979             0.684663                  0.0  \n",
       "1980             0.371188                  0.0  \n",
       "1981             0.498279                  0.0  \n",
       "1982             0.535002                  0.0  \n",
       "1983             0.447062                  0.0  \n",
       "1984             0.637660                  0.0  \n",
       "1985             0.569277                  0.0  \n",
       "1986             0.550002                  0.0  \n",
       "1987             0.512197                  0.0  \n",
       "1988             0.524933                  0.0  \n",
       "1989             0.293690                  0.0  \n",
       "1990             0.377188                  0.0  \n",
       "1991             0.394946                  0.0  \n",
       "1992             0.552167                  0.0  \n",
       "1993             0.468904                  0.0  \n",
       "1994             0.512404                  0.0  \n",
       "1995             0.470212                  0.0  \n",
       "1996             0.552661                  0.0  \n",
       "1997             0.441575                  0.0  \n",
       "1998             0.507814                  0.0  \n",
       "1999             0.614431                  0.0  \n",
       "\n",
       "[2000 rows x 8 columns]>"
      ]
     },
     "execution_count": 12,
     "metadata": {},
     "output_type": "execute_result"
    }
   ],
   "source": [
    "data = pd.DataFrame(data=data, columns = ['sex', 'age', 'Time', 'Number_of_Warts', 'Type', 'Area',\n",
    "       'induration_diameter', 'Result_of_Treatment'], dtype = 'float')\n",
    "for column in data:\n",
    "    #print(data[column].astype)\n",
    "    data[column] = (data[column] - data[column].min() )/( data[column].max() - data[column].min() )\n",
    "data.head"
   ]
  },
  {
   "cell_type": "code",
   "execution_count": 13,
   "metadata": {},
   "outputs": [],
   "source": [
    "#shuffle\n",
    "data = data.sample(frac = 1.0)\n",
    "#data.head"
   ]
  },
  {
   "cell_type": "markdown",
   "metadata": {},
   "source": [
    "Данные подготовлены."
   ]
  },
  {
   "cell_type": "code",
   "execution_count": 14,
   "metadata": {},
   "outputs": [],
   "source": [
    "X, X_test, Y, Y_test = train_test_split(data.iloc[:, :7], data.iloc[:, 7], test_size = 0.4)"
   ]
  },
  {
   "cell_type": "code",
   "execution_count": 15,
   "metadata": {},
   "outputs": [],
   "source": [
    "def clfProcedure(clf):\n",
    "    clf.fit(X, Y)\n",
    "    prd = clf.predict(X_test)\n",
    "    #print(\"PREDICTION:\")\n",
    "    #print(prd)\n",
    "    print(\"CONFUSION:\")\n",
    "    print(confusion_matrix(Y_test, prd))\n",
    "    print(\"KAPPA:\")\n",
    "    print(cohen_kappa_score(Y_test, prd))\n",
    "    print(\"REPORT:\")\n",
    "    print(classification_report(Y_test, prd))"
   ]
  },
  {
   "cell_type": "code",
   "execution_count": 16,
   "metadata": {},
   "outputs": [],
   "source": [
    "def iclfProcedure(clf, niter, data):\n",
    "    sum = 0\n",
    "    for i in range(niter):\n",
    "        X, X_test, Y, Y_test = train_test_split(data.iloc[:, :7], data.iloc[:, 7], test_size = 0.4)\n",
    "        prd = clf.fit(X, Y).predict(X_test)\n",
    "        cks = cohen_kappa_score(Y_test, prd)\n",
    "        print(cks)\n",
    "        sum = sum + cks\n",
    "    print(\"avg: \", sum/niter)"
   ]
  },
  {
   "cell_type": "code",
   "execution_count": 17,
   "metadata": {},
   "outputs": [
    {
     "name": "stdout",
     "output_type": "stream",
     "text": [
      "0.3948903238712017\n",
      "0.3750389044506691\n",
      "0.3842611133360032\n",
      "0.4220954668267788\n",
      "0.4249424942494249\n",
      "0.376720901126408\n",
      "0.3797519007603041\n",
      "0.3824382438243824\n",
      "0.35099379075790194\n",
      "0.35111527062860703\n",
      "avg:  0.38422484098316817\n"
     ]
    }
   ],
   "source": [
    "RFcl = RandomForestClassifier(max_depth = 7)\n",
    "iclfProcedure(RFcl, 10, data)"
   ]
  },
  {
   "cell_type": "code",
   "execution_count": 18,
   "metadata": {},
   "outputs": [
    {
     "data": {
      "text/plain": [
       "array([0.05933886, 0.15306547, 0.38972296, 0.06719738, 0.06835638,\n",
       "       0.19433832, 0.06798063])"
      ]
     },
     "execution_count": 18,
     "metadata": {},
     "output_type": "execute_result"
    }
   ],
   "source": [
    "RFcl.feature_importances_"
   ]
  },
  {
   "cell_type": "code",
   "execution_count": 19,
   "metadata": {},
   "outputs": [
    {
     "name": "stdout",
     "output_type": "stream",
     "text": [
      "CONFUSION:\n",
      "[[255 135]\n",
      " [ 96 314]]\n",
      "KAPPA:\n",
      "0.4207259732932104\n",
      "REPORT:\n",
      "             precision    recall  f1-score   support\n",
      "\n",
      "        0.0       0.73      0.65      0.69       390\n",
      "        1.0       0.70      0.77      0.73       410\n",
      "\n",
      "avg / total       0.71      0.71      0.71       800\n",
      "\n"
     ]
    }
   ],
   "source": [
    "RFcl = RandomForestClassifier(max_depth = 7)\n",
    "clfProcedure(RFcl)"
   ]
  },
  {
   "cell_type": "code",
   "execution_count": 20,
   "metadata": {},
   "outputs": [
    {
     "name": "stdout",
     "output_type": "stream",
     "text": [
      "0.401400072633464\n",
      "0.4341335169478263\n",
      "0.381734896934957\n",
      "0.3848923561623284\n",
      "0.38236103123202725\n",
      "0.3974322111237514\n",
      "0.3528192810071128\n",
      "0.3701889433170049\n",
      "0.4151644849885969\n",
      "0.40768509840674794\n",
      "avg:  0.39278118927538164\n"
     ]
    }
   ],
   "source": [
    "ADAcl = AdaBoostClassifier(learning_rate=0.8, algorithm='SAMME.R')\n",
    "iclfProcedure(ADAcl, 10, data)"
   ]
  },
  {
   "cell_type": "code",
   "execution_count": 21,
   "metadata": {},
   "outputs": [
    {
     "name": "stdout",
     "output_type": "stream",
     "text": [
      "CONFUSION:\n",
      "[[268 122]\n",
      " [115 295]]\n",
      "KAPPA:\n",
      "0.40686979916160915\n",
      "REPORT:\n",
      "             precision    recall  f1-score   support\n",
      "\n",
      "        0.0       0.70      0.69      0.69       390\n",
      "        1.0       0.71      0.72      0.71       410\n",
      "\n",
      "avg / total       0.70      0.70      0.70       800\n",
      "\n"
     ]
    }
   ],
   "source": [
    "ADAcl = AdaBoostClassifier(learning_rate=0.8, algorithm='SAMME.R')\n",
    "clfProcedure(ADAcl)"
   ]
  },
  {
   "cell_type": "code",
   "execution_count": 29,
   "metadata": {},
   "outputs": [
    {
     "name": "stdout",
     "output_type": "stream",
     "text": [
      "0.4080935162712368\n",
      "0.375124975004999\n",
      "0.34643783675912987\n",
      "0.42516167327939014\n",
      "0.28452182208442633\n",
      "0.36\n",
      "0.3655709861124987\n",
      "0.3798604686054362\n",
      "0.4003185807539744\n",
      "0.43484104904504395\n",
      "avg:  0.37799309079161353\n"
     ]
    }
   ],
   "source": [
    "MLPcl = MLPClassifier(hidden_layer_sizes=(100, 100))\n",
    "iclfProcedure(MLPcl, 10, data)"
   ]
  },
  {
   "cell_type": "code",
   "execution_count": 28,
   "metadata": {},
   "outputs": [
    {
     "name": "stdout",
     "output_type": "stream",
     "text": [
      "CONFUSION:\n",
      "[[260 130]\n",
      " [115 295]]\n",
      "KAPPA:\n",
      "0.38654147104851333\n",
      "REPORT:\n",
      "             precision    recall  f1-score   support\n",
      "\n",
      "        0.0       0.69      0.67      0.68       390\n",
      "        1.0       0.69      0.72      0.71       410\n",
      "\n",
      "avg / total       0.69      0.69      0.69       800\n",
      "\n"
     ]
    }
   ],
   "source": [
    "MLPcl = MLPClassifier(hidden_layer_sizes=(100, 100))\n",
    "clfProcedure(MLPcl)"
   ]
  },
  {
   "cell_type": "code",
   "execution_count": null,
   "metadata": {},
   "outputs": [],
   "source": []
  },
  {
   "cell_type": "code",
   "execution_count": null,
   "metadata": {},
   "outputs": [],
   "source": []
  }
 ],
 "metadata": {
  "kernelspec": {
   "display_name": "Python 3",
   "language": "python",
   "name": "python3"
  },
  "language_info": {
   "codemirror_mode": {
    "name": "ipython",
    "version": 3
   },
   "file_extension": ".py",
   "mimetype": "text/x-python",
   "name": "python",
   "nbconvert_exporter": "python",
   "pygments_lexer": "ipython3",
   "version": "3.7.0"
  }
 },
 "nbformat": 4,
 "nbformat_minor": 2
}
